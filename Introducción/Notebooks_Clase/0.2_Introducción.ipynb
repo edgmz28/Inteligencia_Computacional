{
 "cells": [
  {
   "cell_type": "markdown",
   "metadata": {},
   "source": [
    "<img style=\"float: left;;\" src='Figures/alinco.png' /></a>\n",
    "    \n",
    "# <center> <font color= #000047> Introducción a la Inteligencia Computacional.</font>\n",
    "___"
   ]
  },
  {
   "cell_type": "markdown",
   "metadata": {
    "colab_type": "text",
    "id": "Yz4FWlrkLqbg"
   },
   "source": [
    "## Introducción\n",
    "\n",
    "A lo largo del curso trabajaremos con Python. Python es un lenguaje de software libre, no tipado, interpretado y orientado a objetos. Se presenta como principal elección entre los lenguajes utilizados para aplicaciones de inteligencia artificial, particularmente de machine learning, junto con R, Matlab y Octave (dependiendo la comunidad que lo use).\n",
    "\n",
    "Posee un enorme ecosistema de librerías de machine learning. Esto sumado a su flexibilidad y su simpleza de uso hacen que sea uno de los lenguajes más populares para la computación científica.\n",
    "\n",
    "Algunos IDEs: Jupyter (web), Pycharm, Rodeo.\n"
   ]
  },
  {
   "cell_type": "markdown",
   "metadata": {
    "colab_type": "text",
    "id": "F_UlokHsLqbx"
   },
   "source": [
    "Info adicional:\n",
    "\n",
    "* [Markdown](https://daringfireball.net/projects/markdown/) es un conversor de texto plano a HTML. En los notebooks funciona como suerte de versión \"liviana\" de LaTex. Se usa en sitios como Slack, github (para los README), reddit.\n",
    "* [LaTex](http://www.latex-project.org/) es un sistema de tipografía de alta calidad, que permite armar documentos con una sintaxis predefinida. Su sintaxis es mucho más verborrágica comparado con las herramientas típicas de ofimática, pero es mucho más flexible. A LaTex en los notebooks se lo utiliza principalmente para fórmulas.\n",
    "\n",
    "Info adicional sobre LaTex, para aquellos interesados:\n",
    "* Para armar documentos completos en LaTex de forma sencilla una buena alternativa es [Overleaf](https://www.overleaf.com/) (editor LaTex Web colaborativo). Por su parte, la alternativa que recomendamos es descargarlo mediante TexLive (en Debian/Ubuntu/Mint lo descargan con *sudo apt-get install texlive-full* (pesa 4Gb)) y editar los documentos mediante [Atom](http://atom.io/) y sus paquetes *latex* y *language-latex*"
   ]
  },
  {
   "cell_type": "markdown",
   "metadata": {
    "colab_type": "text",
    "id": "WrwFOXyeLqb5"
   },
   "source": [
    "Para sus explicaciones en texto, jupyter por defecto utiliza Markdown. Para utilizar LaTex en un notebook, debe encerrarse la sentencia en \\\\$ ecuación \\\\$ para ecuaciones en la misma línea o bien entre \\\\$\\\\$ ecuación \\\\$\\\\$ para ecuaciones en una nueva línea.\n",
    "\n",
    "Ejemplo $$\\lim_{h \\to 0} \\frac{f(a+h)-f(a)}{h}$$"
   ]
  },
  {
   "cell_type": "markdown",
   "metadata": {},
   "source": [
    "## Introducción a la Inteligencia Computacional\n"
   ]
  },
  {
   "attachments": {},
   "cell_type": "markdown",
   "metadata": {},
   "source": [
    "**Definición 1** \n",
    "\n",
    ">_La Inteligencia Computacional_ combina elementos de aprendizaje, adaptación, evolución y Lógica difusa para crear programas que son, en cierta manera, inteligentes. La investigación en Inteligencia Computacional no rechaza los métodos estadísticos, pero muy a menudo aporta una vista complementaria. Las Redes Neuronales son una rama de la inteligencia computacional muy relacionada con el aprendizaje automático.\n",
    "\n",
    "**Definición 2** \n",
    "\n",
    ">_La Inteligencia Computacional_ es una disciplina que busca dar claridad de acción ante situaciones de decisión confusas; esta disciplina posee herramientas las cuales sirven para entender claramente la situación de decisión, extienden la memoria y la capacidad cognoscitiva, ayudan a superar la incertidumbre encontrando la mejor alternativa.\n",
    "\n",
    "\n",
    "**Definición 3** \n",
    "\n",
    ">“Sistemas interactivos basados en computadora que auxilian a quienes toman decisiones en la utilización de datos modelos para resolver problemas no estructurados” .\n",
    "\n",
    "**Definición 4** \n",
    "\n",
    ">\"Son Sistemas de Apoyo a la Decisión acoplan los recursos intelectuales de los individuos con las capacidades de las computadoras para mejorar la calidad de las decisiones de quienes contienden con problemas semiestructurados”\n"
   ]
  },
  {
   "attachments": {},
   "cell_type": "markdown",
   "metadata": {},
   "source": [
    "### Beneficios percibidos atribuibles al uso de la Inteligencia Computacional  son: \n",
    "\n",
    "- Alta calidad en las decisiones\n",
    "\n",
    "- Comunicación mejorada \n",
    "\n",
    "- Reducción de costos\n",
    "\n",
    "- Incremento en la productividad\n",
    "\n",
    "- Ahorro de tiempo\n",
    "\n",
    "-    Mayor satisfacción de empleados y clientes\n"
   ]
  },
  {
   "attachments": {},
   "cell_type": "markdown",
   "metadata": {},
   "source": [
    "### Sistemas basados en Inteligencia Computacional (IC)\n",
    "\n",
    "- Las compañías se apoyan en los expertos para tomar una decisión compleja o para resolver un problema (conocimiento y experiencia).\n",
    "- Entre menos estructurada sea la situación, más especializada (y cara) es la recomendación. \n",
    "- Los sistemas expertos intentan hacer una mímica de los expertos humanos.\n",
    "- Un sistema experto (SE) es un paquete de cómputo para la toma de decisiones o resolución de problemas en un área de problemas bien definida.\n",
    "\n",
    "<img style=\"float; margin: 0px 0px 15px 15px;\" src=Figures/se.png width=\"600px\" height=\"600px\" />\n"
   ]
  },
  {
   "attachments": {},
   "cell_type": "markdown",
   "metadata": {},
   "source": [
    "### Inteligencia Artificial (IA)\n",
    "\n",
    "> John McCarthy lo define como métodos algorítmicos capaces de hacer pensar a las computadoras.\n",
    "\n",
    "> La IA pretenden modelar el comportamiento inteligente, principalmente humano, con la intención de desarrollar sistemas con características y capacidades inteligentes similares. \n",
    "\n",
    "#### La IA modela el comportamiento inteligente \n",
    "\n",
    "\n",
    "<img style=\"float; \" src=Figures/Ia_mod.jpg width=\"400px\" height=\"400px\" />\n",
    "\n",
    "<img style=\"float;\" src=Figures/IC.png width=\"400px\" height=\"400px\" />\n"
   ]
  },
  {
   "cell_type": "markdown",
   "metadata": {},
   "source": [
    "## Fases de la Inteligencia Computacional"
   ]
  },
  {
   "cell_type": "markdown",
   "metadata": {},
   "source": [
    "<img style=\"float;\" src=Figures/fasesIC.png width=\"400px\" height=\"400px\" />"
   ]
  },
  {
   "cell_type": "code",
   "execution_count": null,
   "metadata": {},
   "outputs": [],
   "source": []
  }
 ],
 "metadata": {
  "anaconda-cloud": {},
  "colab": {
   "include_colab_link": true,
   "name": "2. Intro a Python para Inteligencia Artificial.ipynb",
   "provenance": []
  },
  "kernelspec": {
   "display_name": "Python 3",
   "language": "python",
   "name": "python3"
  },
  "language_info": {
   "codemirror_mode": {
    "name": "ipython",
    "version": 3
   },
   "file_extension": ".py",
   "mimetype": "text/x-python",
   "name": "python",
   "nbconvert_exporter": "python",
   "pygments_lexer": "ipython3",
   "version": "3.8.8"
  }
 },
 "nbformat": 4,
 "nbformat_minor": 4
}
