{
 "cells": [
  {
   "cell_type": "markdown",
   "id": "79baf4b7",
   "metadata": {},
   "source": [
    "<img style=\"float: left;;\" src='Figures/alinco.png' /></a>\n",
    "\n",
    "# <center> <font color= #000047> Modelos y Técnicas de la Inteligencia Computacional.</font>\n",
    "    \n",
    "___"
   ]
  },
  {
   "attachments": {},
   "cell_type": "markdown",
   "id": "806e0385",
   "metadata": {},
   "source": [
    "## Optimización Inteligente\n",
    "\n",
    "### Algoritmos Genéticos:\n",
    "> Los Algoritmos Genéticos (AG) son métodos adaptativos que pueden usarse para resolver problemas de búsqueda y optimización.\n",
    "\n",
    ">Existe la posibilidad de planear la arquitectura de un AG para que sus funciones de convergencia y control, así como sus operadores genéticos estén basados en Distribución de Probabilidad y Lógica Difusa. \n",
    "\n",
    "### Ventajas del Algoritmo Genético\n",
    "\n",
    "- Resuelve problemas no estructurados\n",
    "- Variables combinatorias\n",
    "- Optimización multicriterio\n"
   ]
  },
  {
   "cell_type": "markdown",
   "id": "370e0d19",
   "metadata": {},
   "source": [
    "## Técnicas (Algoritmos) de la Inteligencia Computacional"
   ]
  },
  {
   "attachments": {},
   "cell_type": "markdown",
   "id": "7ed1aca9",
   "metadata": {},
   "source": [
    "### Redes Neuronales Artificiales\n",
    "<img style=\"float;\" src=Figures/red.png width=\"400px\" height=\"400px\" />\n",
    "\n",
    "### RNA Multicapa\n",
    "<img style=\"float;\" src=Figures/RNA_multicapa.png width=\"600px\" height=\"600px\" />\n",
    "\n",
    "### RNA Inversa\n",
    "<img style=\"float;\" src=Figures/RNAi.png width=\"600px\" height=\"600px\" />\n",
    "\n",
    "### Red neuro difusa (TSK)\n",
    "<img style=\"float;\" src=Figures/RNA_difusa.png width=\"600px\" height=\"600px\" />\n",
    "\n",
    "### Algoritmos Genéticos\n",
    "<img style=\"float;\" src=Figures/AG.png width=\"600px\" height=\"600px\" />\n",
    "\n",
    "### Enjambre de Partículas\n",
    "<img style=\"float;\" src=Figures/PSO.png width=\"600px\" height=\"600px\" />"
   ]
  },
  {
   "cell_type": "code",
   "execution_count": null,
   "id": "7e82e601",
   "metadata": {},
   "outputs": [],
   "source": []
  }
 ],
 "metadata": {
  "kernelspec": {
   "display_name": "Python 3",
   "language": "python",
   "name": "python3"
  },
  "language_info": {
   "codemirror_mode": {
    "name": "ipython",
    "version": 3
   },
   "file_extension": ".py",
   "mimetype": "text/x-python",
   "name": "python",
   "nbconvert_exporter": "python",
   "pygments_lexer": "ipython3",
   "version": "3.8.8"
  }
 },
 "nbformat": 4,
 "nbformat_minor": 5
}
